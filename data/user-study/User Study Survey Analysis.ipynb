{
 "cells": [
  {
   "cell_type": "code",
   "execution_count": 8,
   "id": "55612357",
   "metadata": {},
   "outputs": [
    {
     "name": "stdout",
     "output_type": "stream",
     "text": [
      "Index(['StartDate', 'EndDate', 'Status', 'IPAddress', 'Progress',\n",
      "       'Duration (in seconds)', 'Finished', 'RecordedDate', 'ResponseId',\n",
      "       'RecipientLastName', 'RecipientFirstName', 'RecipientEmail',\n",
      "       'ExternalReference', 'LocationLatitude', 'LocationLongitude',\n",
      "       'DistributionChannel', 'UserLanguage', 'Q7', 'Q6', 'Q8', 'Q9', 'Q10',\n",
      "       'Q1_1', 'Q1_2', 'Q1_3', 'Q1_4', 'Q1_5', 'Q1_6', 'Q1_7', 'Q1_8', 'Q1_9',\n",
      "       'Q1_10', 'Q3_1', 'Q3_2', 'Q3_3', 'Q3_4', 'Q3_5', 'Q3_6', 'Q5_1', 'Q5_2',\n",
      "       'Q5_3', 'Q5_4', 'Q5_5', 'Q5_6', 'Q5_7', 'Q5_8', 'Q5_9', 'Q5_10',\n",
      "       'Q5_11', 'Q5_12', 'Q5_13', 'Q5_14', 'Q5_15'],\n",
      "      dtype='object')\n"
     ]
    }
   ],
   "source": [
    "import pandas as pd\n",
    "import matplotlib.pyplot as plt\n",
    "from enum import Enum\n",
    "import numpy as np\n",
    "\n",
    "df = pd.read_excel('survey-results.xlsx')\n",
    "TOTAL_RESPONDENTS = len(df)\n",
    "\n",
    "print(df.columns)"
   ]
  },
  {
   "cell_type": "code",
   "execution_count": 9,
   "id": "e9d4509c",
   "metadata": {},
   "outputs": [
    {
     "name": "stdout",
     "output_type": "stream",
     "text": [
      "16 - 24                  2\n",
      "Please enter your age    1\n",
      "Not Answered             0\n",
      "dtype: int64\n",
      "Female                      1\n",
      "Male                        1\n",
      "Please enter your gender    1\n",
      "Not Answered                0\n",
      "dtype: int64\n",
      "Have you ever been injured whilst cycling?    1\n",
      "Yes - major injury                            1\n",
      "Yes - minor injury                            1\n",
      "Not Answered                                  0\n",
      "dtype: int64\n"
     ]
    }
   ],
   "source": [
    "ages_count = df['Q8'].value_counts().sort_index(ascending=True)\n",
    "not_answered_df = pd.Series([TOTAL_RESPONDENTS - ages_count.sum()], index=['Not Answered'])\n",
    "ages_count = pd.concat([ages_count, not_answered_df])\n",
    "\n",
    "gender_count = df['Q9'].value_counts().sort_index(ascending=True)\n",
    "not_answered_df = pd.Series([TOTAL_RESPONDENTS - gender_count.sum()], index=['Not Answered'])\n",
    "gender_count = pd.concat([gender_count, not_answered_df])\n",
    "\n",
    "injury_count = df['Q10'].value_counts().sort_index(ascending=True)\n",
    "not_answered_df = pd.Series([TOTAL_RESPONDENTS - injury_count.sum()], index=['Not Answered'])\n",
    "injury_count = pd.concat([injury_count, not_answered_df])\n",
    "\n",
    "print(ages_count)\n",
    "print(gender_count)\n",
    "print(injury_count)"
   ]
  },
  {
   "cell_type": "code",
   "execution_count": 37,
   "id": "b7e1fbc5",
   "metadata": {},
   "outputs": [
    {
     "name": "stdout",
     "output_type": "stream",
     "text": [
      "Sus totals: [45.0, 52.5] with an average sus score of 48.75\n",
      "{1: {'PD': {'count': 4, 'rating': 90, 'score': 24.0}, 'MD': {'count': 2, 'rating': 45, 'score': 6.0}, 'TD': {'count': 2, 'rating': 60, 'score': 8.0}, 'P': {'count': 2, 'rating': 25, 'score': 3.3333333333333335}, 'E': {'count': 3, 'rating': 45, 'score': 9.0}, 'F': {'count': 2, 'rating': 100, 'score': 13.333333333333334}, 'final_score': 63.66666666666667}, 2: {'PD': {'count': 3, 'rating': 70, 'score': 14.0}, 'MD': {'count': 1, 'rating': 35, 'score': 2.3333333333333335}, 'TD': {'count': 5, 'rating': 90, 'score': 30.0}, 'P': {'count': 2, 'rating': 55, 'score': 7.333333333333333}, 'E': {'count': 1, 'rating': 50, 'score': 3.3333333333333335}, 'F': {'count': 3, 'rating': 55, 'score': 11.0}, 'final_score': 68.0}}\n"
     ]
    }
   ],
   "source": [
    "ratings = [\"Strongly disagree\", \"Somewhat disagree\", \"Neutral\", \"Somewhat agree\", \"Strongly agree\"]\n",
    "factors = [\"PD\", \"MD\", \"TD\", \"P\", \"E\", \"F\"]\n",
    "comparisons = [[\"P\", \"MD\"],[\"E\", \"P\"],[\"PD\", \"P\"],[\"PD\", \"F\"],[\"TD\", \"E\"],[\"P\", \"TD\"],[\"E\", \"PD\"],[\"F\", \"MD\"],[\"TD\", \"F\"],[\"MD\", \"PD\"],[\"F\", \"E\"],[\"P\", \"F\"],[\"TD\", \"MD\"],[\"PD\", \"TD\"],[\"MD\", \"E\"]]\n",
    "sus_scores = {}\n",
    "sus_totals = []\n",
    "nasa_scores = {}\n",
    "\n",
    "\n",
    "for p in range(1, TOTAL_RESPONDENTS):\n",
    "    sus_scores[p] = []\n",
    "    nasa_scores[p] = {}\n",
    "    final_score = 0\n",
    "            \n",
    "    #print(\"\\nGET SUS SCORES\")\n",
    "    for q in range(1, 11):\n",
    "        que = 'Q1_' + str(q)\n",
    "        rating = df[que][p]\n",
    "        score = ratings.index(rating)\n",
    "        if q % 2 == 0: \n",
    "            score = 5 - (score+1)\n",
    "        sus_scores[p].append(score)\n",
    "    sus_totals.append(sum(sus_scores[p])*2.5)\n",
    "    \n",
    "    #print(\"\\nGET NASA-TLX RATINGS\")\n",
    "    for q in range(1, 7):\n",
    "        que = 'Q3_' + str(q)\n",
    "        rating = (df[que][p]) * 5\n",
    "        nasa_scores[p][factors[q-1]] = {}\n",
    "        nasa_scores[p][factors[q-1]][\"count\"] = 0\n",
    "        nasa_scores[p][factors[q-1]][\"rating\"] = rating\n",
    "    \n",
    "    #print(\"\\nGET NASA-TLX WEIGHTINGS\")\n",
    "    for q in range(1, 16):\n",
    "        que = 'Q5_' + str(q)\n",
    "        n = int(df[que][p])\n",
    "        factor = comparisons[q-1][n-1]\n",
    "        nasa_scores[p][factor][\"count\"] += 1\n",
    "            \n",
    "    for f in factors:\n",
    "        weight = nasa_scores[p][f][\"count\"] / 15\n",
    "        rating = nasa_scores[p][f][\"rating\"]\n",
    "        score = rating * weight\n",
    "        nasa_scores[p][f][\"score\"] = score\n",
    "        final_score += score\n",
    "        \n",
    "    nasa_scores[p][\"final_score\"] = final_score\n",
    "\n",
    "print(f\"Sus totals: {sus_totals} with an average sus score of {np.mean(sus_totals):.2f}\")\n",
    "print(nasa_scores)"
   ]
  },
  {
   "cell_type": "markdown",
   "id": "8a8c4d92",
   "metadata": {},
   "source": [
    "## SUS and NASA-TLX Descriptive Stats"
   ]
  },
  {
   "cell_type": "code",
   "execution_count": 50,
   "id": "c33abd46",
   "metadata": {},
   "outputs": [
    {
     "name": "stdout",
     "output_type": "stream",
     "text": [
      "\n",
      "SUS STATS:\n",
      "\tcount     2.000000\n",
      "mean     48.750000\n",
      "std       5.303301\n",
      "min      45.000000\n",
      "25%      46.875000\n",
      "50%      48.750000\n",
      "75%      50.625000\n",
      "max      52.500000\n",
      "Name: SUS_Score, dtype: float64\n",
      "\n",
      "NASA STATS:\n",
      "\t        count       mean        std        min        25%        50%  \\\n",
      "Factor                                                                 \n",
      "E         2.0   6.166667   4.006938   3.333333   4.750000   6.166667   \n",
      "F         2.0  12.166667   1.649916  11.000000  11.583333  12.166667   \n",
      "MD        2.0   4.166667   2.592725   2.333333   3.250000   4.166667   \n",
      "P         2.0   5.333333   2.828427   3.333333   4.333333   5.333333   \n",
      "PD        2.0  19.000000   7.071068  14.000000  16.500000  19.000000   \n",
      "TD        2.0  19.000000  15.556349   8.000000  13.500000  19.000000   \n",
      "\n",
      "              75%        max  \n",
      "Factor                        \n",
      "E        7.583333   9.000000  \n",
      "F       12.750000  13.333333  \n",
      "MD       5.083333   6.000000  \n",
      "P        6.333333   7.333333  \n",
      "PD      21.500000  24.000000  \n",
      "TD      24.500000  30.000000  \n",
      "\n",
      "NASA FINAL STATS:\n",
      "\tcount     2.000000\n",
      "mean     65.833333\n",
      "std       3.064129\n",
      "min      63.666667\n",
      "25%      64.750000\n",
      "50%      65.833333\n",
      "75%      66.916667\n",
      "max      68.000000\n",
      "Name: Final_Score, dtype: float64\n"
     ]
    }
   ],
   "source": [
    "sus_data = []\n",
    "nasa_data = []\n",
    "final_scores = []\n",
    "\n",
    "for i in range(len(sus_totals)):\n",
    "    sus_data.append({\n",
    "        \"Participant\": i+1,\n",
    "        \"SUS_Score\": sus_totals[i]\n",
    "    })\n",
    "\n",
    "for p, fs in nasa_scores.items():\n",
    "    for factor, values in fs.items():\n",
    "        if factor == \"final_score\":\n",
    "            final_scores.append({\n",
    "                \"Participant\": p,\n",
    "                \"Final_Score\": values\n",
    "            })\n",
    "        else:\n",
    "            nasa_data.append({\n",
    "                \"Participant\": p,\n",
    "                \"Factor\": factor,\n",
    "                \"Count\": values[\"count\"],\n",
    "                \"Rating\": values[\"rating\"],\n",
    "                \"Score\": values[\"score\"]\n",
    "            })\n",
    "\n",
    "df1 = pd.DataFrame(sus_data)\n",
    "df2 = pd.DataFrame(nasa_data)\n",
    "df3 = pd.DataFrame(final_scores)\n",
    "desc_sus_stats = df1[\"SUS_Score\"].describe()\n",
    "desc_nasa_stats = df2.groupby('Factor')['Score'].describe()\n",
    "desc_nasa_final_stats = df3[\"Final_Score\"].describe()\n",
    "\n",
    "print(f\"\\nSUS STATS:\\n\\t{desc_sus_stats}\")\n",
    "print(f\"\\nNASA STATS:\\n\\t{desc_nasa_stats}\")\n",
    "print(f\"\\nNASA FINAL STATS:\\n\\t{desc_nasa_final_stats}\")"
   ]
  },
  {
   "cell_type": "code",
   "execution_count": null,
   "id": "e53966ea",
   "metadata": {},
   "outputs": [],
   "source": []
  }
 ],
 "metadata": {
  "kernelspec": {
   "display_name": "Python 3",
   "language": "python",
   "name": "python3"
  },
  "language_info": {
   "codemirror_mode": {
    "name": "ipython",
    "version": 3
   },
   "file_extension": ".py",
   "mimetype": "text/x-python",
   "name": "python",
   "nbconvert_exporter": "python",
   "pygments_lexer": "ipython3",
   "version": "3.8.8"
  }
 },
 "nbformat": 4,
 "nbformat_minor": 5
}
