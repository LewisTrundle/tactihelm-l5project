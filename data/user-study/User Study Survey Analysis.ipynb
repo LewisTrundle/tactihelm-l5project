{
 "cells": [
  {
   "cell_type": "code",
   "execution_count": 68,
   "id": "55612357",
   "metadata": {},
   "outputs": [
    {
     "name": "stdout",
     "output_type": "stream",
     "text": [
      "Index(['StartDate', 'EndDate', 'Status', 'IPAddress', 'Progress',\n",
      "       'Duration (in seconds)', 'Finished', 'RecordedDate', 'ResponseId',\n",
      "       'RecipientLastName', 'RecipientFirstName', 'RecipientEmail',\n",
      "       'ExternalReference', 'LocationLatitude', 'LocationLongitude',\n",
      "       'DistributionChannel', 'UserLanguage', 'Q7', 'Q6', 'Q8', 'Q9', 'Q10',\n",
      "       'Q1_1', 'Q1_2', 'Q1_3', 'Q1_4', 'Q1_5', 'Q1_6', 'Q1_7', 'Q1_8', 'Q1_9',\n",
      "       'Q1_10', 'Q3_1', 'Q3_2', 'Q3_3', 'Q3_4', 'Q3_5', 'Q3_6', 'Q5_1', 'Q5_2',\n",
      "       'Q5_3', 'Q5_4', 'Q5_5', 'Q5_6', 'Q5_7', 'Q5_8', 'Q5_9', 'Q5_10',\n",
      "       'Q5_11', 'Q5_12', 'Q5_13', 'Q5_14', 'Q5_15'],\n",
      "      dtype='object')\n"
     ]
    }
   ],
   "source": [
    "import pandas as pd\n",
    "import matplotlib.pyplot as plt\n",
    "from enum import Enum\n",
    "import numpy as np\n",
    "\n",
    "df = pd.read_excel('survey-results.xlsx')\n",
    "TOTAL_RESPONDENTS = len(df)\n",
    "\n",
    "print(df.columns)"
   ]
  },
  {
   "cell_type": "code",
   "execution_count": 69,
   "id": "e9d4509c",
   "metadata": {},
   "outputs": [
    {
     "name": "stdout",
     "output_type": "stream",
     "text": [
      "16 - 24                  2\n",
      "Please enter your age    1\n",
      "Not Answered             0\n",
      "dtype: int64\n",
      "Female                      1\n",
      "Male                        1\n",
      "Please enter your gender    1\n",
      "Not Answered                0\n",
      "dtype: int64\n",
      "Have you ever been injured whilst cycling?    1\n",
      "Yes - major injury                            1\n",
      "Yes - minor injury                            1\n",
      "Not Answered                                  0\n",
      "dtype: int64\n"
     ]
    }
   ],
   "source": [
    "ages_count = df['Q8'].value_counts().sort_index(ascending=True)\n",
    "not_answered_df = pd.Series([TOTAL_RESPONDENTS - ages_count.sum()], index=['Not Answered'])\n",
    "ages_count = pd.concat([ages_count, not_answered_df])\n",
    "\n",
    "gender_count = df['Q9'].value_counts().sort_index(ascending=True)\n",
    "not_answered_df = pd.Series([TOTAL_RESPONDENTS - gender_count.sum()], index=['Not Answered'])\n",
    "gender_count = pd.concat([gender_count, not_answered_df])\n",
    "\n",
    "injury_count = df['Q10'].value_counts().sort_index(ascending=True)\n",
    "not_answered_df = pd.Series([TOTAL_RESPONDENTS - injury_count.sum()], index=['Not Answered'])\n",
    "injury_count = pd.concat([injury_count, not_answered_df])\n",
    "\n",
    "print(ages_count)\n",
    "print(gender_count)\n",
    "print(injury_count)"
   ]
  },
  {
   "cell_type": "code",
   "execution_count": 71,
   "id": "b7e1fbc5",
   "metadata": {},
   "outputs": [
    {
     "name": "stdout",
     "output_type": "stream",
     "text": [
      "90\n",
      "45\n",
      "60\n",
      "25\n",
      "45\n",
      "100\n",
      "70\n",
      "35\n",
      "90\n",
      "55\n",
      "50\n",
      "55\n",
      "Sus totals: [45.0, 52.5] with an average sus score of 48.75\n"
     ]
    }
   ],
   "source": [
    "ratings = [\"Strongly disagree\", \"Somewhat disagree\", \"Neutral\", \"Somewhat agree\", \"Strongly agree\"]\n",
    "sus_scores = {}\n",
    "sus_totals = []\n",
    "\n",
    "for p in range(1, TOTAL_RESPONDENTS):\n",
    "    sus_scores[p] = []\n",
    "            \n",
    "    # get sus scores\n",
    "    for q in range(1, 11):\n",
    "        que = 'Q1_' + str(q)\n",
    "        rating = df[que][p]\n",
    "        score = ratings.index(rating)\n",
    "        if q % 2 == 0: \n",
    "            score = 5 - (score+1)\n",
    "        sus_scores[p].append(score)\n",
    "    sus_totals.append(sum(sus_scores[p])*2.5)\n",
    "    \n",
    "    # get nasa-tlx scores\n",
    "    for q in range(1, 7):\n",
    "        que = 'Q3_' + str(q)\n",
    "        weight = (df[que][p]) * 5\n",
    "        print(weight)\n",
    "\n",
    "\n",
    "print(f\"Sus totals: {sus_totals} with an average sus score of {np.mean(sus_totals):.2f}\")       "
   ]
  },
  {
   "cell_type": "code",
   "execution_count": null,
   "id": "c33abd46",
   "metadata": {},
   "outputs": [],
   "source": []
  }
 ],
 "metadata": {
  "kernelspec": {
   "display_name": "Python 3",
   "language": "python",
   "name": "python3"
  },
  "language_info": {
   "codemirror_mode": {
    "name": "ipython",
    "version": 3
   },
   "file_extension": ".py",
   "mimetype": "text/x-python",
   "name": "python",
   "nbconvert_exporter": "python",
   "pygments_lexer": "ipython3",
   "version": "3.8.8"
  }
 },
 "nbformat": 4,
 "nbformat_minor": 5
}
