{
 "cells": [
  {
   "cell_type": "code",
   "execution_count": 1,
   "id": "55612357",
   "metadata": {},
   "outputs": [
    {
     "name": "stdout",
     "output_type": "stream",
     "text": [
      "  Q7                                                 Q6 Q3_1 Q3_2 Q3_3 Q3_4  \\\n",
      "1  1  I just completed my second commute using Tacti...    7    5    5    1   \n",
      "2  2  I just completed my second commute using Tacti...   14   13   15   10   \n",
      "3  3  I just completed my second commute using Tacti...    4   12    8    4   \n",
      "4  4  I just completed my second commute using Tacti...    4   16    9    6   \n",
      "5  6  I just completed my second commute using Tacti...    5    9   15    2   \n",
      "\n",
      "  Q3_5 Q3_6       Q8    Q9  ...           Q16_1              Q16_2  \\\n",
      "1    7    1  16 - 24  Male  ...  Somewhat agree     Strongly agree   \n",
      "2   14   13  55 - 64  Male  ...         Neutral            Neutral   \n",
      "3   10    3  16 - 24  Male  ...  Somewhat agree  Somewhat disagree   \n",
      "4   17   14  16 - 24  Male  ...  Somewhat agree            Neutral   \n",
      "5    4    8  16 - 24  Male  ...  Somewhat agree  Somewhat disagree   \n",
      "\n",
      "            Q16_3              Q16_4           Q16_5              Q16_6  \\\n",
      "1  Somewhat agree  Somewhat disagree  Somewhat agree     Somewhat agree   \n",
      "2  Somewhat agree  Somewhat disagree  Somewhat agree     Somewhat agree   \n",
      "3  Somewhat agree     Somewhat agree         Neutral  Somewhat disagree   \n",
      "4  Somewhat agree  Somewhat disagree  Somewhat agree     Somewhat agree   \n",
      "5         Neutral            Neutral  Somewhat agree     Somewhat agree   \n",
      "\n",
      "                                                 Q17 Q18_1  \\\n",
      "1                                                NaN    10   \n",
      "2  sometimes the feedback came late and the car h...    10   \n",
      "3  Sometimes there were cars overtaking me that t...     6   \n",
      "4                                                NaN     4   \n",
      "5  I found TactiHelm most useful when there had b...     9   \n",
      "\n",
      "                                                 Q19  \\\n",
      "1                V2 is much more comfortable than V1   \n",
      "2                                                NaN   \n",
      "3                                                NaN   \n",
      "4                                                NaN   \n",
      "5  The helmet was not more uncomfortable than a r...   \n",
      "\n",
      "                                                 Q14  \n",
      "1                                                NaN  \n",
      "2                                                NaN  \n",
      "3                                                NaN  \n",
      "4                                                NaN  \n",
      "5  I think I benefitted most from it noticing car...  \n",
      "\n",
      "[5 rows x 38 columns]\n",
      "  Q7                                                 Q6 Q3_1 Q3_2 Q3_3 Q3_4  \\\n",
      "1  3  I just completed my normal commute without usi...    4   13   10    5   \n",
      "2  4  I just completed my normal commute without usi...    3   14    6    9   \n",
      "3  1  I just completed my normal commute without usi...   12   14    8    0   \n",
      "4  6  I just completed my normal commute without usi...    8   14   13    8   \n",
      "5  2  I just completed my normal commute without usi...   13   12   12    1   \n",
      "\n",
      "  Q3_5 Q3_6   Q8   Q9  ... Q16_1 Q16_2 Q16_3 Q16_4 Q16_5 Q16_6  Q17 Q18_1  \\\n",
      "1   10    2  NaN  NaN  ...   NaN   NaN   NaN   NaN   NaN   NaN  NaN   NaN   \n",
      "2   11   15  NaN  NaN  ...   NaN   NaN   NaN   NaN   NaN   NaN  NaN   NaN   \n",
      "3   10    7  NaN  NaN  ...   NaN   NaN   NaN   NaN   NaN   NaN  NaN   NaN   \n",
      "4   10    6  NaN  NaN  ...   NaN   NaN   NaN   NaN   NaN   NaN  NaN   NaN   \n",
      "5   10   11  NaN  NaN  ...   NaN   NaN   NaN   NaN   NaN   NaN  NaN   NaN   \n",
      "\n",
      "   Q19  Q14  \n",
      "1  NaN  NaN  \n",
      "2  NaN  NaN  \n",
      "3  NaN  NaN  \n",
      "4  NaN  NaN  \n",
      "5  NaN  NaN  \n",
      "\n",
      "[5 rows x 38 columns]\n",
      "Index(['Q7', 'Q6', 'Q3_1', 'Q3_2', 'Q3_3', 'Q3_4', 'Q3_5', 'Q3_6', 'Q8', 'Q9',\n",
      "       'Q10', 'Q1_1', 'Q1_2', 'Q1_3', 'Q1_4', 'Q1_5', 'Q1_6', 'Q1_7', 'Q1_8',\n",
      "       'Q1_9', 'Q1_10', 'Q11_1', 'Q11_2', 'Q11_3', 'Q11_4', 'Q11_5', 'Q11_6',\n",
      "       'Q12', 'Q16_1', 'Q16_2', 'Q16_3', 'Q16_4', 'Q16_5', 'Q16_6', 'Q17',\n",
      "       'Q18_1', 'Q19', 'Q14'],\n",
      "      dtype='object')\n"
     ]
    }
   ],
   "source": [
    "import pandas as pd\n",
    "import matplotlib.pyplot as plt\n",
    "from enum import Enum\n",
    "import numpy as np\n",
    "\n",
    "df = pd.read_excel('survey-results.xlsx')\n",
    "df_tacti = df[df['Q6'] == 'I just completed my second commute using TactiHelm']\n",
    "df_norm = df[df['Q6'] == 'I just completed my normal commute without using TactiHelm']\n",
    "\n",
    "# Resetting the index for df_tacti and starting it from 1\n",
    "df_tacti.reset_index(drop=True, inplace=True)\n",
    "df_tacti.index += 1\n",
    "\n",
    "# Resetting the index for df_norm and starting it from 1\n",
    "df_norm.reset_index(drop=True, inplace=True)\n",
    "df_norm.index += 1\n",
    "\n",
    "TOTAL_RESPONDENTS = len(df_tacti)\n",
    "\n",
    "print(df_tacti)\n",
    "print(df_norm)\n",
    "\n",
    "print(df.columns)"
   ]
  },
  {
   "cell_type": "code",
   "execution_count": 2,
   "id": "e9d4509c",
   "metadata": {},
   "outputs": [
    {
     "name": "stdout",
     "output_type": "stream",
     "text": [
      "16 - 24         4\n",
      "55 - 64         1\n",
      "Not Answered    0\n",
      "dtype: int64\n",
      "Male            5\n",
      "Not Answered    0\n",
      "dtype: int64\n",
      "No                    1\n",
      "Yes - minor injury    4\n",
      "Not Answered          0\n",
      "dtype: int64\n"
     ]
    }
   ],
   "source": [
    "ages_count = df_tacti['Q8'].value_counts().sort_index(ascending=True)\n",
    "not_answered_df = pd.Series([TOTAL_RESPONDENTS - ages_count.sum()], index=['Not Answered'])\n",
    "ages_count = pd.concat([ages_count, not_answered_df])\n",
    "\n",
    "gender_count = df_tacti['Q9'].value_counts().sort_index(ascending=True)\n",
    "not_answered_df = pd.Series([TOTAL_RESPONDENTS - gender_count.sum()], index=['Not Answered'])\n",
    "gender_count = pd.concat([gender_count, not_answered_df])\n",
    "\n",
    "injury_count = df_tacti['Q10'].value_counts().sort_index(ascending=True)\n",
    "not_answered_df = pd.Series([TOTAL_RESPONDENTS - injury_count.sum()], index=['Not Answered'])\n",
    "injury_count = pd.concat([injury_count, not_answered_df])\n",
    "\n",
    "print(ages_count)\n",
    "print(gender_count)\n",
    "print(injury_count)"
   ]
  },
  {
   "cell_type": "code",
   "execution_count": 3,
   "id": "b7e1fbc5",
   "metadata": {},
   "outputs": [
    {
     "name": "stdout",
     "output_type": "stream",
     "text": [
      "Sus totals: [82.5, 75.0, 67.5, 70.0, 72.5] with an average sus score of 73.50\n",
      "participant: 1\tPD: 35, MD: 25, TD: 25, P: 5, E: 35, F: 5, final_score: 21.666666666666668\n",
      "participant: 2\tPD: 70, MD: 65, TD: 75, P: 50, E: 70, F: 65, final_score: 65.83333333333333\n",
      "participant: 3\tPD: 20, MD: 60, TD: 40, P: 20, E: 50, F: 15, final_score: 34.166666666666664\n",
      "participant: 4\tPD: 20, MD: 80, TD: 45, P: 30, E: 85, F: 70, final_score: 55.0\n",
      "participant: 6\tPD: 25, MD: 45, TD: 75, P: 10, E: 20, F: 40, final_score: 35.833333333333336\n",
      "participant: 3\tPD: 20, MD: 65, TD: 50, P: 25, E: 50, F: 10, final_score: 36.666666666666664\n",
      "participant: 4\tPD: 15, MD: 70, TD: 30, P: 45, E: 55, F: 75, final_score: 48.333333333333336\n",
      "participant: 1\tPD: 60, MD: 70, TD: 40, P: 0, E: 50, F: 35, final_score: 42.5\n",
      "participant: 6\tPD: 40, MD: 70, TD: 65, P: 40, E: 50, F: 30, final_score: 49.166666666666664\n",
      "participant: 2\tPD: 65, MD: 60, TD: 60, P: 5, E: 50, F: 55, final_score: 49.166666666666664\n"
     ]
    }
   ],
   "source": [
    "ratings = [\"Strongly disagree\", \"Somewhat disagree\", \"Neutral\", \"Somewhat agree\", \"Strongly agree\"]\n",
    "factors = [\"PD\", \"MD\", \"TD\", \"P\", \"E\", \"F\"]\n",
    "comparisons = [[\"P\", \"MD\"],[\"E\", \"P\"],[\"PD\", \"P\"],[\"PD\", \"F\"],[\"TD\", \"E\"],[\"P\", \"TD\"],[\"E\", \"PD\"],[\"F\", \"MD\"],[\"TD\", \"F\"],[\"MD\", \"PD\"],[\"F\", \"E\"],[\"P\", \"F\"],[\"TD\", \"MD\"],[\"PD\", \"TD\"],[\"MD\", \"E\"]]\n",
    "sus_scores = {}\n",
    "sus_totals = []\n",
    "nasa_scores = {}\n",
    "nasa_scores_norm = {}\n",
    "\n",
    "\n",
    "def get_sus_data(p):\n",
    "    p_n = df['Q7'][p]\n",
    "    sus_scores[p_n] = []\n",
    "    for q in range(1, 11):\n",
    "        rating = df_tacti['Q1_'+str(q)][p]\n",
    "        score = ratings.index(rating)\n",
    "        if q % 2 == 0: \n",
    "            score = 5 - (score+1)\n",
    "        sus_scores[p_n].append(score)\n",
    "    sus_totals.append(sum(sus_scores[p_n])*2.5)\n",
    "    \n",
    "    \n",
    "def get_nasa_data(df, data, p):\n",
    "    p_n = df['Q7'][p]\n",
    "    #print(f\"Participant No.: {p_n}, {p}\")\n",
    "    \n",
    "    data[p_n] = {}\n",
    "    final_score = 0\n",
    "    for q in range(1, 7):\n",
    "        rating = (df['Q3_'+str(q)][p]) * 5\n",
    "        data[p_n][factors[q-1]] = {}\n",
    "        data[p_n][factors[q-1]][\"rating\"] = rating\n",
    "        final_score += rating\n",
    "        \n",
    "    data[p_n][\"final_score\"] = final_score / 6\n",
    "    return data\n",
    "\n",
    "\n",
    "for p in range(1, len(df_tacti)+1):\n",
    "    get_sus_data(p)\n",
    "    nasa_scores = get_nasa_data(df_tacti, nasa_scores, p)\n",
    "for p in range(1, len(df_norm)+1):\n",
    "    nasa_scores_norm = get_nasa_data(df_norm, nasa_scores_norm, p)\n",
    "    \n",
    "\n",
    "print(f\"Sus totals: {sus_totals} with an average sus score of {np.mean(sus_totals):.2f}\")\n",
    "\n",
    "for x in [nasa_scores, nasa_scores_norm]:\n",
    "    for p, scores in x.items():\n",
    "        print(f\"participant: {p}\\tPD: {scores['PD']['rating']}, MD: {scores['MD']['rating']}, TD: {scores['TD']['rating']}, P: {scores['P']['rating']}, E: {scores['E']['rating']}, F: {scores['F']['rating']}, final_score: {scores['final_score']}\")"
   ]
  },
  {
   "cell_type": "markdown",
   "id": "8a8c4d92",
   "metadata": {},
   "source": [
    "## SUS and NASA-TLX Descriptive Stats"
   ]
  },
  {
   "cell_type": "code",
   "execution_count": 5,
   "id": "c33abd46",
   "metadata": {},
   "outputs": [
    {
     "name": "stdout",
     "output_type": "stream",
     "text": [
      "\n",
      "SUS STATS:\n",
      "count     5.000000\n",
      "mean     73.500000\n",
      "std       5.755432\n",
      "min      67.500000\n",
      "25%      70.000000\n",
      "50%      72.500000\n",
      "75%      75.000000\n",
      "max      82.500000\n",
      "Name: SUS_Score, dtype: float64\n",
      "\n",
      "NASA STATS:\n",
      "        count  mean        std   min   25%   50%   75%   max\n",
      "Factor                                                      \n",
      "E         5.0  52.0  26.124701  20.0  35.0  50.0  70.0  85.0\n",
      "F         5.0  39.0  29.025851   5.0  15.0  40.0  65.0  70.0\n",
      "MD        5.0  55.0  20.916501  25.0  45.0  60.0  65.0  80.0\n",
      "P         5.0  23.0  17.888544   5.0  10.0  20.0  30.0  50.0\n",
      "PD        5.0  34.0  21.035684  20.0  20.0  25.0  35.0  70.0\n",
      "TD        5.0  52.0  22.248595  25.0  40.0  45.0  75.0  75.0\n",
      "\n",
      "NASA NORMAL STATS:\n",
      "        count  mean        std   min   25%   50%   75%   max\n",
      "Factor                                                      \n",
      "E         5.0  51.0   2.236068  50.0  50.0  50.0  50.0  55.0\n",
      "F         5.0  41.0  24.849547  10.0  30.0  35.0  55.0  75.0\n",
      "MD        5.0  67.0   4.472136  60.0  65.0  70.0  70.0  70.0\n",
      "P         5.0  23.0  20.186629   0.0   5.0  25.0  40.0  45.0\n",
      "PD        5.0  40.0  22.638463  15.0  20.0  40.0  60.0  65.0\n",
      "TD        5.0  49.0  14.317821  30.0  40.0  50.0  60.0  65.0\n",
      "\n",
      "NASA FINAL STATS:\n",
      "count     5.000000\n",
      "mean     42.500000\n",
      "std      17.667846\n",
      "min      21.666667\n",
      "25%      34.166667\n",
      "50%      35.833333\n",
      "75%      55.000000\n",
      "max      65.833333\n",
      "Name: Final_Score, dtype: float64\n",
      "\n",
      "NASA NORMAL FINAL STATS:\n",
      "count     5.000000\n",
      "mean     45.166667\n",
      "std       5.508831\n",
      "min      36.666667\n",
      "25%      42.500000\n",
      "50%      48.333333\n",
      "75%      49.166667\n",
      "max      49.166667\n",
      "Name: Final_Score, dtype: float64\n"
     ]
    }
   ],
   "source": [
    "sus_data = []\n",
    "\n",
    "for i in range(len(sus_totals)):\n",
    "    sus_data.append({\n",
    "        \"Participant\": i+1,\n",
    "        \"SUS_Score\": sus_totals[i]\n",
    "    })\n",
    "    \n",
    "def get_nasa_stats(data):\n",
    "    d = []\n",
    "    final = []\n",
    "    for p, fs in data.items():\n",
    "        for factor, values in fs.items():\n",
    "            if factor == \"final_score\":\n",
    "                final.append({\n",
    "                    \"Participant\": p,\n",
    "                    \"Final_Score\": values\n",
    "                })\n",
    "            else:\n",
    "                d.append({\n",
    "                    \"Participant\": p,\n",
    "                    \"Factor\": factor,\n",
    "                    #\"Count\": values[\"count\"],\n",
    "                    \"Rating\": values[\"rating\"],\n",
    "                    #\"Score\": values[\"score\"]\n",
    "                })\n",
    "    return d, final\n",
    "\n",
    "\n",
    "nasa_data, final_scores = get_nasa_stats(nasa_scores)\n",
    "nasa_data_norm, final_scores_norm = get_nasa_stats(nasa_scores_norm)\n",
    "\n",
    "\n",
    "df1 = pd.DataFrame(sus_data)\n",
    "df2 = pd.DataFrame(nasa_data)\n",
    "df3 = pd.DataFrame(final_scores)\n",
    "df4 = pd.DataFrame(nasa_data_norm)\n",
    "df5 = pd.DataFrame(final_scores_norm)\n",
    "\n",
    "\n",
    "desc_sus_stats = df1[\"SUS_Score\"].describe()\n",
    "desc_nasa_stats = df2.groupby('Factor')['Rating'].describe()\n",
    "desc_nasa_stats_norm = df4.groupby('Factor')['Rating'].describe()\n",
    "desc_nasa_final_stats = df3[\"Final_Score\"].describe()\n",
    "desc_nasa_final_stats_norm = df5[\"Final_Score\"].describe()\n",
    "\n",
    "\n",
    "print(f\"\\nSUS STATS:\\n{desc_sus_stats}\")\n",
    "print(f\"\\nNASA STATS:\\n{desc_nasa_stats}\")\n",
    "print(f\"\\nNASA NORMAL STATS:\\n{desc_nasa_stats_norm}\")\n",
    "print(f\"\\nNASA FINAL STATS:\\n{desc_nasa_final_stats}\")\n",
    "print(f\"\\nNASA NORMAL FINAL STATS:\\n{desc_nasa_final_stats_norm}\")"
   ]
  },
  {
   "cell_type": "markdown",
   "id": "08b975df",
   "metadata": {},
   "source": [
    "### SUS Vis"
   ]
  },
  {
   "cell_type": "code",
   "execution_count": 6,
   "id": "544acf32",
   "metadata": {
    "scrolled": false
   },
   "outputs": [
    {
     "data": {
      "image/png": "[encoded data removed]",
      "text/plain": [
       "<Figure size 720x432 with 1 Axes>"
      ]
     },
     "metadata": {
      "needs_background": "light"
     },
     "output_type": "display_data"
    },
    {
     "data": {
      "image/png": "[encoded data removed]",
      "text/plain": [
       "<Figure size 576x216 with 1 Axes>"
      ]
     },
     "metadata": {
      "needs_background": "light"
     },
     "output_type": "display_data"
    }
   ],
   "source": [
    "df_sus = df1\n",
    "\n",
    "# Plotting SUS scores for each participant using a bar chart\n",
    "plt.figure(figsize=(10, 6))\n",
    "plt.bar(df_sus['Participant'].astype(str), df_sus['SUS_Score'], color='skyblue')\n",
    "plt.xlabel('Participant', fontsize=14)\n",
    "plt.ylabel('SUS Score', fontsize=14)\n",
    "plt.title('SUS Scores by Participant')\n",
    "plt.axhline(y=85, color='green', linestyle='--', label='Excellent (85+)')\n",
    "plt.axhline(y=70, color='orange', linestyle='--', label='Good (70-84)')\n",
    "plt.axhline(y=50, color='red', linestyle='--', label='OK (50-69)')\n",
    "plt.legend()\n",
    "plt.xticks(fontsize=12)\n",
    "plt.yticks(fontsize=12)\n",
    "\n",
    "plt.show()\n",
    "\n",
    "# Plotting a box plot to show the distribution of SUS scores\n",
    "plt.figure(figsize=(8, 3))\n",
    "plt.boxplot(df_sus['SUS_Score'], vert=False, patch_artist=True)\n",
    "plt.title('Distribution of SUS Scores')\n",
    "plt.xlabel('SUS Score', fontsize=12)\n",
    "plt.yticks([1], ['SUS Scores'], fontsize=12)\n",
    "plt.xticks(fontsize=12)\n",
    "\n",
    "plt.show()"
   ]
  },
  {
   "cell_type": "markdown",
   "id": "3a343ec7",
   "metadata": {},
   "source": [
    "### NASA Final Scores Comparison"
   ]
  },
  {
   "cell_type": "code",
   "execution_count": 7,
   "id": "c86f1b6f",
   "metadata": {},
   "outputs": [
    {
     "data": {
      "image/png": "[encoded data removed]",
      "text/plain": [
       "<Figure size 432x288 with 1 Axes>"
      ]
     },
     "metadata": {
      "needs_background": "light"
     },
     "output_type": "display_data"
    }
   ],
   "source": [
    "data_1 = final_scores\n",
    "data_2 = final_scores_norm\n",
    "\n",
    "# Extracting scores for each participant\n",
    "participants = sorted({d['Participant'] for d in data_1}.union({d['Participant'] for d in data_2}))\n",
    "scores_1 = [next((item['Final_Score'] for item in data_1 if item['Participant'] == p), None) for p in participants]\n",
    "scores_2 = [next((item['Final_Score'] for item in data_2 if item['Participant'] == p), None) for p in participants]\n",
    "\n",
    "# Creating the boxplots\n",
    "fig, ax = plt.subplots()\n",
    "bp = ax.boxplot([scores_1, scores_2], patch_artist=True, labels=['With TH', 'Without TH'], vert=False)\n",
    "\n",
    "# Adding titles and labels\n",
    "ax.set_title('NASA-RTLX Scores', fontsize=15)\n",
    "ax.set_xlabel('Score', fontsize=14)\n",
    "plt.yticks(fontsize=12)\n",
    "plt.xticks(fontsize=12)\n",
    "\n",
    "plt.show()"
   ]
  },
  {
   "cell_type": "markdown",
   "id": "67b2bfef",
   "metadata": {},
   "source": [
    "### NASA Factor Scores Comparison"
   ]
  },
  {
   "cell_type": "code",
   "execution_count": 12,
   "id": "ed711774",
   "metadata": {
    "scrolled": false
   },
   "outputs": [
    {
     "data": {
      "image/png": "[encoded data removed]",
      "text/plain": [
       "<Figure size 720x432 with 1 Axes>"
      ]
     },
     "metadata": {
      "needs_background": "light"
     },
     "output_type": "display_data"
    }
   ],
   "source": [
    "df_condition_1 = df2\n",
    "df_condition_2 = df4\n",
    "\n",
    "# Calculate average rating for each factor in both conditions\n",
    "average_ratings_condition_1 = df_condition_1.groupby('Factor')['Rating'].mean()\n",
    "average_ratings_condition_2 = df_condition_2.groupby('Factor')['Rating'].mean()\n",
    "\n",
    "# Prepare data for visualization\n",
    "average_ratings = pd.DataFrame({'Condition 1': average_ratings_condition_1, 'Condition 2': average_ratings_condition_2}).reset_index()\n",
    "\n",
    "# Plotting the bar chart for average rating comparison\n",
    "plt.figure(figsize=(10, 6))\n",
    "bar_width = 0.35\n",
    "index = np.arange(len(average_ratings['Factor']))\n",
    "\n",
    "bars1 = plt.bar(index, average_ratings['Condition 1'], bar_width, label='Condition 1')\n",
    "bars2 = plt.bar(index + bar_width, average_ratings['Condition 2'], bar_width, label='Condition 2')\n",
    "\n",
    "plt.xlabel('Factor', fontsize=14)\n",
    "plt.ylabel('Average Rating', fontsize=14)\n",
    "plt.title('Average Ratings for Each Factor', fontsize=15)\n",
    "plt.xticks(index + bar_width / 2, average_ratings['Factor'], fontsize=12)\n",
    "plt.legend(['With TactiHelm', 'Without TactiHelm'], fontsize=12)\n",
    "plt.tight_layout()\n",
    "plt.yticks(fontsize=12)\n",
    "\n",
    "\n",
    "plt.show()\n"
   ]
  },
  {
   "cell_type": "markdown",
   "id": "1817ae59",
   "metadata": {},
   "source": [
    "## Stats for SUS"
   ]
  },
  {
   "cell_type": "code",
   "execution_count": 13,
   "id": "70509f22",
   "metadata": {},
   "outputs": [
    {
     "name": "stdout",
     "output_type": "stream",
     "text": [
      "[{'Participant': 1, 'SUS_Score': 82.5}, {'Participant': 2, 'SUS_Score': 75.0}, {'Participant': 3, 'SUS_Score': 67.5}, {'Participant': 4, 'SUS_Score': 70.0}, {'Participant': 5, 'SUS_Score': 72.5}]\n",
      "SUS:\tStat: 0.94, p: 0.685 (Normal: True)\n",
      "SUS:\tConfidence Interval:\t(67.10814335755744, 79.89185664244256)\n",
      "SUS:\tt-Stat: 2.14, p: 0.099 (Significant: False)\n"
     ]
    }
   ],
   "source": [
    "from scipy.stats import shapiro, t, ttest_1samp\n",
    "\n",
    "print(sus_data)\n",
    "sus_norm_stat, sus_norm_p = shapiro(sus_totals)\n",
    "\n",
    "confidence_level = 0.95\n",
    "degrees_freedom = len(sus_totals) - 1\n",
    "confidence_interval = t.interval(confidence_level, degrees_freedom, np.mean(sus_totals), np.std(sus_totals) / (len(sus_totals) ** 0.5))\n",
    "\n",
    "benchmark_sus = 68\n",
    "t_statistic, p_value_one_sample = ttest_1samp(sus_totals, benchmark_sus)\n",
    "\n",
    "print(f\"SUS:\\tStat: {sus_norm_stat:.2f}, p: {sus_norm_p:.3f} (Normal: {sus_norm_p>0.05})\")\n",
    "print(f\"SUS:\\tConfidence Interval:\\t{confidence_interval}\")\n",
    "print(f\"SUS:\\tt-Stat: {t_statistic:.2f}, p: {p_value_one_sample:.3f} (Significant: {sus_norm_p<0.05})\")"
   ]
  },
  {
   "cell_type": "markdown",
   "id": "d322ac1d",
   "metadata": {},
   "source": [
    "The Shapiro-Wilk test p-value is 0.685, which is well above the commonly used threshold of 0.05 to reject the null hypothesis of normality. This suggests that your SUS scores do not significantly deviate from a normal distribution, although with a small sample size, this test has limited power.\n",
    "\n",
    "The 95% confidence interval for the mean SUS score ranges from approximately 66.35 to 80.65. This interval estimates where the true mean SUS score for your population is likely to lie with 95% confidence.\n",
    "\n",
    "Given the mean SUS score of 73.5, which is above the benchmark score of 68, your results suggest that the system is considered above average in usability. The range and standard deviation indicate moderate variability in participant responses.\n",
    "\n",
    "The p-value of 0.099 is above the conventional threshold of 0.05, which means we do not have enough evidence to reject the null hypothesis. Therefore, based on this statistical test, the difference between your average SUS score (73.5) and the benchmark score (68) is not statistically significant at the 5% significance level.\n",
    "\n",
    "This result suggests that while your system's usability, as measured by the SUS scores, is above the benchmark, the difference is not statistically significant with the sample size provided. It indicates that your system is likely perceived as having above-average usability, consistent with the mean SUS score observed, though larger samples might provide more definitive statistical evidence."
   ]
  },
  {
   "cell_type": "markdown",
   "id": "9c2d0480",
   "metadata": {},
   "source": [
    "## Stats for NASA-TLX"
   ]
  },
  {
   "cell_type": "code",
   "execution_count": 14,
   "id": "c9676fe7",
   "metadata": {},
   "outputs": [
    {
     "name": "stdout",
     "output_type": "stream",
     "text": [
      "\n",
      "Normality of Difference Scores:\n",
      "E:\tStat: 0.97, p: 0.843 (Normal: True)\n",
      "F:\tStat: 0.81, p: 0.093 (Normal: True)\n",
      "MD:\tStat: 0.92, p: 0.544 (Normal: True)\n",
      "P:\tStat: 0.93, p: 0.625 (Normal: True)\n",
      "PD:\tStat: 0.85, p: 0.201 (Normal: True)\n",
      "TD:\tStat: 0.81, p: 0.103 (Normal: True)\n",
      "\n",
      "Paired Statistical Test Results:\n",
      "E:\tTest: Paired t-test, Stat: 0.09, p: 0.932 (Significant: False)\n",
      "F:\tTest: Paired t-test, Stat: -0.27, p: 0.803 (Significant: False)\n",
      "MD:\tTest: Paired t-test, Stat: -1.18, p: 0.305 (Significant: False)\n",
      "P:\tTest: Paired t-test, Stat: 0.00, p: 1.000 (Significant: False)\n",
      "PD:\tTest: Paired t-test, Stat: -1.00, p: 0.374 (Significant: False)\n",
      "TD:\tTest: Paired t-test, Stat: 0.47, p: 0.666 (Significant: False)\n",
      "\n",
      "Normality of Difference Scores:\n",
      "RTLX:\tStat: 0.98, p: 0.926 (Normal: True)\n",
      "\n",
      "Paired Statistical Test Results:\n",
      "RTLX:\tTest: Paired t-test, Stat: -0.40, p: 0.712 (Significant: False)\n"
     ]
    }
   ],
   "source": [
    "from scipy.stats import shapiro, ttest_rel, wilcoxon\n",
    "\n",
    "def test_normality_of_differences(df1, df2):\n",
    "    print(\"\\nNormality of Difference Scores:\")\n",
    "    factors = df1.columns  # Assuming df1 and df2 have the same structure\n",
    "    normality_results = {}\n",
    "    for factor in factors:\n",
    "        # Calculate difference scores for the current factor\n",
    "        difference_scores = df1[factor] - df2[factor]\n",
    "        # Perform Shapiro-Wilk test for normality\n",
    "        stat, p = shapiro(difference_scores.dropna())  # Drop NaN values that may result from missing data\n",
    "        normality_results[factor] = {'Statistic': stat, 'p-Value': p}\n",
    "        print(f\"{factor}:\\tStat: {stat:.2f}, p: {p:.3f} (Normal: {p > 0.05})\")\n",
    "    return normality_results\n",
    "\n",
    "\n",
    "def perform_paired_statistical_tests(df1, df2, normality_results):\n",
    "    print(\"\\nPaired Statistical Test Results:\")\n",
    "    test_results = {}\n",
    "    for factor, normality in normality_results.items():\n",
    "        # Check if difference scores are normally distributed\n",
    "        if normality['p-Value'] > 0.05:\n",
    "            # Use paired t-test for normally distributed differences\n",
    "            stat, p = ttest_rel(df1[factor], df2[factor], nan_policy='omit')  # 'omit' to ignore NaNs\n",
    "            test_used = 'Paired t-test'\n",
    "        else:\n",
    "            # Use Wilcoxon signed-rank test for non-normally distributed differences\n",
    "            stat, p = wilcoxon(df1[factor], df2[factor])\n",
    "            test_used = 'Wilcoxon signed-rank'\n",
    "        test_results[factor] = {'Test Used': test_used, 'Statistic': stat, 'p-Value': p}\n",
    "        print(f\"{factor}:\\tTest: {test_used}, Stat: {stat:.2f}, p: {p:.3f} (Significant: {p < 0.05})\")\n",
    "    return test_results\n",
    "\n",
    "\n",
    "\n",
    "pivot_1 = df2.pivot(index='Participant', columns='Factor', values='Rating')\n",
    "pivot_2 = df4.pivot(index='Participant', columns='Factor', values='Rating')\n",
    "\n",
    "normality_condition = test_normality_of_differences(pivot_1, pivot_2)\n",
    "statistical_test_results = perform_paired_statistical_tests(pivot_1, pivot_2, normality_condition)\n",
    "\n",
    "\n",
    "\n",
    "def restructure(data):\n",
    "    d = []\n",
    "    for p in data:\n",
    "        d.append({\n",
    "            'Participant': p[\"Participant\"],\n",
    "            \"Factor\": \"RTLX\",\n",
    "            \"Rating\": p[\"Final_Score\"]\n",
    "        })  \n",
    "    return pd.DataFrame(d)\n",
    "        \n",
    "new_df1 = restructure(final_scores)\n",
    "new_df2 = restructure(final_scores_norm)\n",
    "x = new_df1.pivot(index='Participant', columns='Factor', values='Rating')\n",
    "y = new_df2.pivot(index='Participant', columns='Factor', values='Rating')\n",
    "\n",
    "normality_condition = test_normality_of_differences(x, y)\n",
    "statistical_test_results = perform_paired_statistical_tests(x, y, normality_condition)"
   ]
  },
  {
   "cell_type": "markdown",
   "id": "a7694d32",
   "metadata": {},
   "source": [
    "From the Shapiro Normality test on the difference between conditions of each factor, all factors showed p-values greater than 0.05, indicating that the difference scores are normally distributed for each factor.\n",
    "\n",
    "Therefore, we used paired t tests.\n",
    "\n",
    "However, none of the factors showed a statistically significant difference between the two conditions, with all p-values being greater than 0.05, we used t"
   ]
  },
  {
   "cell_type": "code",
   "execution_count": 15,
   "id": "ac182f02",
   "metadata": {},
   "outputs": [
    {
     "data": {
      "text/plain": [
       "(ShapiroResult(statistic=0.8853235244750977, pvalue=0.3341342508792877),\n",
       " 'Paired T-Test',\n",
       " TtestResult(statistic=-0.4278472523718878, pvalue=0.6907913444029852, df=4))"
      ]
     },
     "execution_count": 15,
     "metadata": {},
     "output_type": "execute_result"
    }
   ],
   "source": [
    "from scipy.stats import shapiro, wilcoxon\n",
    "\n",
    "# Final NASA-RTLX scores for the two conditions\n",
    "final_scores_condition_1 = [i['Final_Score'] for i in final_scores]\n",
    "final_scores_condition_2 = [i['Final_Score'] for i in final_scores_norm]\n",
    "\n",
    "# Check if the differences are normally distributed\n",
    "differences = [y - x for x, y in zip(final_scores_condition_1, final_scores_condition_2)]\n",
    "shapiro_result = shapiro(differences)\n",
    "\n",
    "\n",
    "# Choosing the test based on the Shapiro-Wilk test for normality\n",
    "if shapiro_result.pvalue > 0.05:\n",
    "    # If data is normally distributed, perform a paired t-test\n",
    "    t_test_result = ttest_rel(final_scores_condition_1, final_scores_condition_2)\n",
    "    test_used = \"Paired T-Test\"\n",
    "    test_result = t_test_result\n",
    "else:\n",
    "    # If data is not normally distributed, perform a Wilcoxon signed-rank test\n",
    "    wilcoxon_result = wilcoxon(final_scores_condition_1, final_scores_condition_2)\n",
    "    test_used = \"Wilcoxon Signed-Rank Test\"\n",
    "    test_result = wilcoxon_result\n",
    "\n",
    "shapiro_result, test_used, test_result"
   ]
  },
  {
   "cell_type": "markdown",
   "id": "5dd0c505",
   "metadata": {},
   "source": [
    "## Tactors and Usability Descriptive Stats"
   ]
  },
  {
   "cell_type": "code",
   "execution_count": 16,
   "id": "bf4652e3",
   "metadata": {},
   "outputs": [
    {
     "name": "stdout",
     "output_type": "stream",
     "text": [
      "\n",
      "         count  mean       std  min  25%  50%  75%  max\n",
      "Tactor                                                \n",
      "FRONT     5.0   4.2  0.836660  3.0  4.0  4.0  5.0  5.0\n",
      "MID       5.0   4.4  0.547723  4.0  4.0  4.0  5.0  5.0\n",
      "REAR      5.0   4.0  1.224745  2.0  4.0  4.0  5.0  5.0\n",
      "\n",
      "            count  mean       std  min  25%  50%  75%  max\n",
      "Factor                                                   \n",
      "Accuracy     5.0   4.2  0.836660  3.0  4.0  4.0  5.0  5.0\n",
      "Alert        5.0   3.8  1.643168  2.0  2.0  5.0  5.0  5.0\n",
      "Distin.      5.0   3.6  1.140175  2.0  3.0  4.0  4.0  5.0\n",
      "Interp.      5.0   4.2  0.447214  4.0  4.0  4.0  4.0  5.0\n",
      "Length       5.0   3.8  1.643168  2.0  2.0  5.0  5.0  5.0\n",
      "Proximity    5.0   4.0  1.224745  2.0  4.0  4.0  5.0  5.0\n",
      "Reliable     5.0   4.4  0.547723  4.0  4.0  4.0  5.0  5.0\n",
      "Safer        5.0   4.2  0.447214  4.0  4.0  4.0  4.0  5.0\n",
      "Times        5.0   3.6  1.140175  2.0  3.0  4.0  4.0  5.0\n",
      "\n",
      "\n",
      "Comfort rating: M=7.8, SD=2.4\n",
      "\n",
      " COMFORT\n",
      "1 V2 is much more comfortable than V1\n",
      "2 nan\n",
      "3 nan\n",
      "4 nan\n",
      "6 The helmet was not more uncomfortable than a regular helmet.\n",
      "\n",
      " EFFECTIVENESS\n",
      "1 nan\n",
      "2 sometimes the feedback came late and the car had already passed me\n",
      "3 Sometimes there were cars overtaking me that the system didn't recognise until they were directly beside me and then it went imminent\n",
      "4 nan\n",
      "6 I found TactiHelm most useful when there had been no cars following me and one suddenly appeared (often from far initially). The reliability was less so with a tail of cars, perhaps missing cars that were around 10 metres behind the car that was alerted as imminent when that further away car got closer.\n",
      "\n",
      " OTHER\n",
      "1 nan\n",
      "2 nan\n",
      "3 nan\n",
      "4 nan\n",
      "6 I think I benefitted most from it noticing cars far away (cars I would need to turn nearly 180 degrees to notice). Perhaps a slimmer version of TactiHelm could be available meaning this was a smaller device on the helmet and could feel more comfortable/stable to cycle with.\n"
     ]
    }
   ],
   "source": [
    "import pingouin as pg\n",
    "\n",
    "tactors = [\"FRONT\", \"MID\", \"REAR\"]\n",
    "factors2 = [\"Distin.\", \"Interp.\", \"Length\", \"Accuracy\", \"Reliable\", \"Proximity\", \"Times\", \"Safer\", \"Alert\"]\n",
    "\n",
    "\n",
    "def show_data(data, dv, within, subject, fried=True):\n",
    "    df_data = pd.DataFrame(data)\n",
    "    #print(df_data)\n",
    "    desc_data = df_data.groupby(within)[dv].describe()\n",
    "    print(\"\\n\", desc_data)\n",
    "    normal = pg.normality(data=df_data, dv=dv, group=within)\n",
    "    #print(\"\\n\", normal)\n",
    "    if fried:\n",
    "        friedman = pg.friedman(data=df_data, dv=dv, within=within, subject=subject, method=\"chisq\")\n",
    "        #print(friedman)\n",
    "    \n",
    "\n",
    "def get_data(df):\n",
    "    data_tactor = []\n",
    "    data_factors = []\n",
    "    comfort_score = []\n",
    "    comments = {\"comfort\": [], \"effectiveness\": [], \"other\": []}\n",
    "    for x in range(1, len(df)+1):\n",
    "        p_n = df['Q7'][x]\n",
    "        #print(p_n)\n",
    "        \n",
    "        for q in range(1, 7):\n",
    "            answer = df['Q11_'+str(q)][x]\n",
    "            score = ratings.index(answer)+1\n",
    "            #print(answer, score)\n",
    "            if q <= 3:\n",
    "                tactor = tactors[q-1]\n",
    "                data_tactor.append({\n",
    "                    \"Participant\": p_n,\n",
    "                    \"Tactor\": tactor,\n",
    "                    \"Rating\": score\n",
    "                })\n",
    "            else:\n",
    "                factor = factors2[q-4]\n",
    "                data_factors.append({\n",
    "                    \"Participant\": p_n,\n",
    "                    \"Factor\": factor,\n",
    "                    \"Rating\": score\n",
    "                })\n",
    "                \n",
    "        for q in range(1, 7):\n",
    "            answer = df['Q11_'+str(q)][x]\n",
    "            score = ratings.index(answer)+1\n",
    "            factor = factors2[q+2]\n",
    "            data_factors.append({\n",
    "                    \"Participant\": p_n,\n",
    "                    \"Factor\": factor,\n",
    "                    \"Rating\": score\n",
    "            })\n",
    "        \n",
    "        comfort_score.append(df['Q18_1'][x])\n",
    "        comments[\"effectiveness\"].append([p_n, df['Q17'][x]])\n",
    "        comments[\"comfort\"].append([p_n, df['Q19'][x]])\n",
    "        comments[\"other\"].append([p_n, df['Q14'][x]])\n",
    "     \n",
    "    show_data(data_tactor, \"Rating\", \"Tactor\", \"Participant\")\n",
    "    show_data(data_factors, \"Rating\", \"Factor\", \"Participant\", False)\n",
    "    print(f\"\\n\\nComfort rating: M={np.mean(comfort_score)}, SD={np.std(comfort_score)}\")\n",
    "    for fac, com in comments.items():\n",
    "        print(\"\\n\", fac.upper())\n",
    "        for c in com:\n",
    "            print(c[0], c[1])\n",
    "            \n",
    "    return pd.DataFrame(data_tactor), pd.DataFrame(data_factors)\n",
    "\n",
    "            \n",
    "        \n",
    "df_tactors, df_factors = get_data(df_tacti)"
   ]
  },
  {
   "cell_type": "markdown",
   "id": "66d485e4",
   "metadata": {},
   "source": [
    "## Tactor Stats"
   ]
  },
  {
   "cell_type": "code",
   "execution_count": 17,
   "id": "bc585632",
   "metadata": {},
   "outputs": [
    {
     "name": "stdout",
     "output_type": "stream",
     "text": [
      "FRONT:\tStat: 0.88, p: 0.314 (Normal: True)\n",
      "MID:\tStat: 0.68, p: 0.006 (Normal: False)\n",
      "REAR:\tStat: 0.83, p: 0.146 (Normal: True)\n",
      "FriedmanchisquareResult(statistic=0.4285714285714347, pvalue=0.8071177470053867)\n",
      "     U-val alternative    p-val       RBC      CLES\n",
      "MWU   44.0   two-sided  0.81713  0.073684  0.463158\n",
      "     U-val alternative     p-val       RBC      CLES\n",
      "MWU   59.0   two-sided  0.400099 -0.242105  0.621053\n",
      "     U-val alternative     p-val       RBC      CLES\n",
      "MWU   62.5   two-sided  0.283478 -0.315789  0.657895\n"
     ]
    }
   ],
   "source": [
    "from scipy.stats import friedmanchisquare\n",
    "\n",
    "normality_results_tactors = {tactor: shapiro(df_tactors[df_tactors['Tactor'] == tactor]['Rating']) for tactor in df_tactors['Tactor'].unique()}\n",
    "for tactor, stats in normality_results_tactors.items():\n",
    "    stat = stats[0]\n",
    "    p = stats[1]\n",
    "    print(f\"{tactor}:\\tStat: {stat:.2f}, p: {p:.3f} (Normal: {p>0.05})\")\n",
    "    \n",
    "ratings_front = df_tactors[df_tactors['Tactor'] == 'FRONT']['Rating']\n",
    "ratings_mid = df_tactors[df_tactors['Tactor'] == 'MID']['Rating']\n",
    "ratings_rear = df_tactors[df_tactors['Tactor'] == 'REAR']['Rating']\n",
    "friedman_test_result = friedmanchisquare(ratings_front, ratings_mid, ratings_rear)\n",
    "print(friedman_test_result)\n",
    "\n",
    "rear = pd.Series([1, 2, 2, 4, 4, 4, 4, 4, 4, 4, 5, 5, 5, 5, 5, 5, 5, 5, 5])\n",
    "mid = pd.Series([2, 2, 2, 2, 3, 4, 4, 4, 4, 4, 4, 4, 4, 5, 5, 5, 5, 5, 5])\n",
    "front = pd.Series([1, 2, 2, 2, 2, 2, 2, 3, 4, 4, 4, 4, 4, 4, 5, 5, 5, 5, 5])\n",
    "\n",
    "mwu = pg.mwu(ratings_rear, rear, alternative=\"two-sided\")\n",
    "print(mwu)\n",
    "mwu = pg.mwu(ratings_mid, mid, alternative=\"two-sided\")\n",
    "print(mwu)\n",
    "mwu = pg.mwu(ratings_front, front, alternative=\"two-sided\")\n",
    "print(mwu)"
   ]
  },
  {
   "cell_type": "markdown",
   "id": "c9dfa8c9",
   "metadata": {},
   "source": [
    "From the Shapiro Normality test, the results suggest that ratings for the \"Front\" and \"Rear\" tactors do not significantly deviate from a normal distribution, given the p-values are above the typical alpha level of 0.05. However, the ratings for the \"Mid\" tactor show a significant deviation from normality (p < 0.05), indicating that the data for this group is not normally distributed. Therefore, a non-parametric test would be suitable for comparing the perceptibility ratings across the three tactors.\n",
    "\n",
    "The Friedman's ANOVA test results indicate a statistic of approximately 0.429 with a p-value of 0.807. This high p-value suggests that there are no statistically significant differences in the perceptibility ratings across the three tactors (front, mid, and rear), according to the participants' responses.\n",
    "\n",
    "In summary, according to the participants' responses, there's no evidence to suggest that the perceptibility of the front, mid, and rear tactors differs significantly. This finding suggests a relatively uniform perceptual experience across the different tactor locations."
   ]
  },
  {
   "cell_type": "code",
   "execution_count": 18,
   "id": "d9521fcc",
   "metadata": {},
   "outputs": [
    {
     "data": {
      "image/png": "[encoded data removed]",
      "text/plain": [
       "<Figure size 432x288 with 1 Axes>"
      ]
     },
     "metadata": {
      "needs_background": "light"
     },
     "output_type": "display_data"
    }
   ],
   "source": [
    "import pandas as pd\n",
    "import numpy as np\n",
    "import matplotlib.pyplot as plt\n",
    "\n",
    "# Assuming 'nasa_stats' and 'nasa_normal_stats' are your DataFrames\n",
    "# Here's how they might be defined based on your provided data\n",
    "data = {\n",
    "    'Factor': ['E', 'F', 'MD', 'P', 'PD', 'TD'],\n",
    "    'Mean': [52.0, 39.0, 55.0, 23.0, 34.0, 52.0],\n",
    "    'Std': [26.12, 29.03, 20.92, 17.89, 21.04, 22.25]\n",
    "}\n",
    "nasa_stats = pd.DataFrame(data)\n",
    "\n",
    "data_normal = {\n",
    "    'Factor': ['E', 'F', 'MD', 'P', 'PD', 'TD'],\n",
    "    'Mean': [55.0, 43.0, 68.0, 32.0, 41.0, 52.0],\n",
    "    'Std': [8.66, 26.60, 2.74, 20.19, 24.08, 18.23]\n",
    "}\n",
    "nasa_normal_stats = pd.DataFrame(data_normal)\n",
    "\n",
    "# Set the positions and width for the bars\n",
    "positions = np.arange(len(nasa_stats['Factor']))\n",
    "width = 0.35\n",
    "\n",
    "# Plotting the mean values\n",
    "fig, ax = plt.subplots()\n",
    "rects1 = ax.bar(positions - width/2, nasa_stats['Mean'], width, label='NASA STATS')\n",
    "rects2 = ax.bar(positions + width/2, nasa_normal_stats['Mean'], width, label='NASA NORMAL STATS')\n",
    "\n",
    "# Adding some text for labels, title, and axes ticks\n",
    "ax.set_ylabel('Means')\n",
    "ax.set_title('Means by Factor and Condition')\n",
    "ax.set_xticks(positions)\n",
    "ax.set_xticklabels(nasa_stats['Factor'])\n",
    "ax.legend()\n",
    "\n",
    "# Function to auto-label the bars\n",
    "def autolabel(rects):\n",
    "    for rect in rects:\n",
    "        height = rect.get_height()\n",
    "        ax.annotate('{}'.format(height),\n",
    "                    xy=(rect.get_x() + rect.get_width() / 2, height),\n",
    "                    xytext=(0, 3),  # 3 points vertical offset\n",
    "                    textcoords=\"offset points\",\n",
    "                    ha='center', va='bottom')\n",
    "\n",
    "autolabel(rects1)\n",
    "autolabel(rects2)\n",
    "\n",
    "plt.tight_layout()\n",
    "plt.show()"
   ]
  },
  {
   "cell_type": "code",
   "execution_count": null,
   "id": "045b069d",
   "metadata": {},
   "outputs": [],
   "source": []
  },
  {
   "cell_type": "code",
   "execution_count": null,
   "id": "4a8d7128",
   "metadata": {},
   "outputs": [],
   "source": []
  }
 ],
 "metadata": {
  "kernelspec": {
   "display_name": "Python 3",
   "language": "python",
   "name": "python3"
  },
  "language_info": {
   "codemirror_mode": {
    "name": "ipython",
    "version": 3
   },
   "file_extension": ".py",
   "mimetype": "text/x-python",
   "name": "python",
   "nbconvert_exporter": "python",
   "pygments_lexer": "ipython3",
   "version": "3.8.8"
  }
 },
 "nbformat": 4,
 "nbformat_minor": 5
}
